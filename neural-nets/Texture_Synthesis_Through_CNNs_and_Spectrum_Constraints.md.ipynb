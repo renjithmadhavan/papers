{
 "cells": [
  {
   "cell_type": "markdown",
   "metadata": {},
   "source": [
    "# Paper\n",
    "\n",
    "* **Title**: Texture Synthesis Through Convolutional Neural Networks and Spectrum Constraints\n",
    "* **Authors**: Gang Liu, Yann Gousseau, Gui-Song Xia\n",
    "* **Link**: http://arxiv.org/abs/1605.01141v3\n",
    "* **Tags**: Neural Network, artistic style, fourier, texture\n",
    "* **Year**: 2016\n",
    "\n",
    "# Summary\n",
    "\n",
    "* What\n",
    "  * The well known method of [Artistic Style Transfer](A_Neural_Algorithm_for_Artistic_Style.md) can be used to generate new texture images (from an existing example) by skipping the content loss and only using the style loss.\n",
    "  * The method however can have problems with large scale structures and quasi-periodic patterns.\n",
    "  * They add a new loss based on the spectrum of the images (synthesized image and style image), which decreases these problems and handles especially periodic patterns well.\n",
    "\n",
    "* How\n",
    "  * Everything is handled in the same way as in the Artistic Style Transfer paper (without content loss).\n",
    "  * On top of that they add their spectrum loss:\n",
    "    * The loss is based on a squared distance, i.e. `1/2 d(I_s, I_t)^2`.\n",
    "      * `I_s` is the last synthesized image.\n",
    "      * `I_t` is the texture example.\n",
    "    * `d(I_s, I_t)` then does the following:\n",
    "      * It assumes that `I_t` is an example for a space of target images.\n",
    "      * Within that set it finds the image `I_p` which is most similar to `I_s`. That is done using a projection via Fourier Transformations. (See formula 5 in the paper.)\n",
    "      * The returned distance is then `I_s - I_p`.\n",
    "\n",
    "* Results\n",
    "  * Equal quality for textures without quasi-periodic structures.\n",
    "  * Significantly better quality for textures with quasi-periodic structures.\n",
    "\n",
    "\n",
    "![Overview](images/Texture_Synthesis_Through_CNNs_and_Spectrum_Constraints__overview.png?raw=true \"Overview\")\n",
    "\n",
    "*Overview over their method, i.e. generated textures using style and/or spectrum-based loss.*"
   ]
  }
 ],
 "metadata": {},
 "nbformat": 4,
 "nbformat_minor": 2
}
