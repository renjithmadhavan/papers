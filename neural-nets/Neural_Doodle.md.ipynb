{
 "cells": [
  {
   "cell_type": "markdown",
   "metadata": {},
   "source": [
    "# Paper\n",
    "\n",
    "* **Title**: Semantic Style Transfer and Turning Two-Bit Doodles into Fine Artwork\n",
    "* **Authors**: Alex J. Champandard\n",
    "* **Link**: http://arxiv.org/abs/1603.01768\n",
    "* **Tags**: Neural Network, artistic style, markov random field\n",
    "* **Year**: 2016\n",
    "\n",
    "# Summary\n",
    "\n",
    "* What\n",
    "  * They describe a method to transfer image styles based on semantic classes.\n",
    "  * This allows to:\n",
    "    * (1) Transfer styles between images more accurately than with previous models. E.g. so that the background of an image does not receive the style of skin/hair/clothes/... seen in the style image. Skin in the synthesized image should receive the style of skin from the style image. Same for hair, clothes, etc.\n",
    "    * (2) Turn simple doodles into artwork by treating the simplified areas in the doodle as semantic classes and annotating an artwork with these same semantic classes. (E.g. \"this blob should receive the style from these trees.\")\n",
    "\n",
    "* How\n",
    "  * Their method is based on [Combining Markov Random Fields and Convolutional Neural Networks for Image Synthesis](Combining_MRFs_and_CNNs_for_Image_Synthesis.md).\n",
    "  * They use the same content loss and mostly the same MRF-based style loss. (Apparently they don't use the regularization loss.)\n",
    "  * They change the input of the MRF-based style loss.\n",
    "    * Usually that input would only be the activations of a VGG-layer (for the synthesized image or the style source image).\n",
    "    * They add a semantic map with weighting `gamma` to the activation, i.e. `<representation of image> = <activation of specific layer for that image> || gamma * <semantic map>`.\n",
    "    * The semantic map has N channels with 1s in a channel where a specific class is located (e.g. skin).\n",
    "    * The semantic map has to be created by the user for both the content image and the style image.\n",
    "    * As usually for the MRF loss, patches are then sampled from the representations. The semantic maps then influence the distance measure. I.e. patches are more likely to be sampled from the same semantic class.\n",
    "    * Higher `gamma` values make it more likely to sample from the same semantic class (because the distance from patches from different classes gets larger).\n",
    "  * One can create a small doodle with few colors, then use the colors as the semantic map. Then add a semantic map to an artwork and run the algorithm to transform the doodle into an artwork. \n",
    "\n",
    "* Results\n",
    "  * More control over the transfered styles than previously.\n",
    "  * Less sensitive to the style weighting, because of the additional `gamma` hyperparameter.\n",
    "  * Easy transformation from doodle to artwork.\n",
    "\n",
    "![Example](images/Neural_Doodle__example.png?raw=true \"Example\")\n",
    "\n",
    "*Turning a doodle into an artwork. Note that the doodle input image is also used as the semantic map of the input.*"
   ]
  }
 ],
 "metadata": {},
 "nbformat": 4,
 "nbformat_minor": 2
}
