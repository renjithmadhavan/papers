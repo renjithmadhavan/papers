{
 "cells": [
  {
   "cell_type": "markdown",
   "metadata": {},
   "source": [
    "# Paper\n",
    "\n",
    "* **Title**: Identity Mappings in Deep Residual Networks\n",
    "* **Authors**: Kaiming He, Xiangyu Zhang, Shaoqing Ren, Jian Sun\n",
    "* **Link**: http://arxiv.org/abs/1603.05027v2\n",
    "* **Tags**: Neural Network, residual\n",
    "* **Year**: 2016\n",
    "\n",
    "# Summary\n",
    "\n",
    "* What\n",
    "  * The authors reevaluate the original residual design of neural networks.\n",
    "  * They compare various architectures of residual units and actually find one that works quite a bit better.\n",
    "\n",
    "* How\n",
    "  * The new variation starts the transformation branch of each residual unit with BN and a ReLU.\n",
    "  * It removes BN and ReLU after the last convolution.\n",
    "  * As a result, the information from previous layers can flow completely unaltered through the shortcut branch of each residual unit.\n",
    "  * The image below shows some variations (of the position of BN and ReLU) that they tested. The new and better design is on the right:\n",
    "    ![BN and ReLU positions](images/Identity_Mappings_in_Deep_Residual_Networks__activations.png?raw=true \"BN and ReLU positions\")\n",
    "  * They also tried various alternative designs for the shortcut connections. However, all of these designs performed worse than the original one. Only one (d) came close under certain conditions. Therefore, the recommendation is to stick with the old/original design.\n",
    "    ![Shortcut designs](images/Identity_Mappings_in_Deep_Residual_Networks__shortcuts.png?raw=true \"Shortcut designs\")\n",
    "\n",
    "* Results\n",
    "  * Significantly faster training for very deep residual networks (1001 layers).\n",
    "  * Better regularization due to the placement of BN.\n",
    "  * CIFAR-10 and CIFAR-100 results, old vs. new design:\n",
    "    ![Old vs new results](images/Identity_Mappings_in_Deep_Residual_Networks__old_vs_new.png?raw=true \"Old vs new results\")"
   ]
  }
 ],
 "metadata": {},
 "nbformat": 4,
 "nbformat_minor": 2
}
